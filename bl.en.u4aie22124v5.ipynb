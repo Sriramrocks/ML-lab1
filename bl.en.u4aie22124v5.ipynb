{
 "cells": [
  {
   "cell_type": "code",
   "execution_count": 9,
   "metadata": {},
   "outputs": [
    {
     "name": "stdout",
     "output_type": "stream",
     "text": [
      "No of vowels in given input:  2\n",
      "No of consonants in given input:  4\n"
     ]
    }
   ],
   "source": [
    "no_of_vowels = 0\n",
    "no_of_consonants = 0\n",
    "\n",
    "def findVowels(input):\n",
    "    vowels = {\"a\", \"e\", \"i\", \"o\", \"u\", \"A\", \"E\", \"I\", \"O\", \"U\"}\n",
    "    \n",
    "    for x in input:\n",
    "        if x in vowels:\n",
    "            global no_of_vowels\n",
    "            no_of_vowels += 1\n",
    "        else:\n",
    "            global no_of_consonants\n",
    "            no_of_consonants += 1\n",
    "    return no_of_vowels, no_of_consonants\n",
    "\n",
    "def main():\n",
    "    input_str = input(\"Enter a Word or a Sentence: \")\n",
    "    no_of_vowels, no_of_consonants = findVowels(input_str)\n",
    "    print(\"No of vowels in given input: \", no_of_vowels)\n",
    "    print(\"No of consonants in given input: \", no_of_consonants)\n",
    "\n",
    "if __name__ == \"__main__\":\n",
    "    main()\n"
   ]
  },
  {
   "cell_type": "code",
   "execution_count": 5,
   "metadata": {},
   "outputs": [
    {
     "name": "stdout",
     "output_type": "stream",
     "text": [
      "Matrix product AB:\n",
      "[20, 14, 27]\n",
      "[10, 8, 17]\n",
      "[20, 19, 31]\n"
     ]
    }
   ],
   "source": [
    "# function to perform matrix multiplication\n",
    "def multiply(A,B,ROW_A,COL_A,ROW_B,COL_B):\n",
    "    if COL_A!=ROW_B:\n",
    "        print(\"multiplication not possible\")\n",
    "        return None\n",
    "    else:\n",
    "#initialize the result matrix C with zero\n",
    "        C=[[0 for _ in range(COL_B)]for _ in range(ROW_A)]\n",
    "#Nested loops to perform matrix myltiplication\n",
    "        for i in range(ROW_A):\n",
    "            for j in range(COL_B):\n",
    "                for k in range(COL_A):\n",
    "                    C[i][j] += A[i][k] * B[k][j]\n",
    "\n",
    "    return C\n",
    "\n",
    "#for the matrix A\n",
    "ROW_A=int(input(\"enter the number of rows of A\"))\n",
    "COL_A=int(input(\"enter the number of cols of A\"))\n",
    "A=[[int(input(f\"enter the element of A{i}{j}\"))for j in range(COL_A)]for i in range(ROW_A)]\n",
    "\n",
    "#for the matrix B\n",
    "ROW_B=int(input(\"enter the number of rows of B\"))\n",
    "COL_B=int(input(\"enter the number of cols of B\"))\n",
    "B=[[int(input(f\"enter the element of B{i},{j}\"))for j in range(COL_B)]for i in range(ROW_B)]\n",
    "\n",
    "C=multiply(A,B,ROW_A,COL_A,ROW_B,COL_B)\n",
    "print(\"Matrix product AB:\")\n",
    "for row in C:\n",
    "    print(row)"
   ]
  },
  {
   "cell_type": "code",
   "execution_count": 8,
   "metadata": {},
   "outputs": [
    {
     "name": "stdout",
     "output_type": "stream",
     "text": [
      "enter the values inside the list : \n",
      "[1, 2, 1]\n",
      "enter the values inside the list : \n",
      "[1, 6]\n",
      "the similiar elements are [1, 1]\n"
     ]
    }
   ],
   "source": [
    "#create an empty list 'list1' to store values entered by the user\n",
    "list1  =[]\n",
    "# get the size of the list from the user\n",
    "size = int(input(\"Enter the size of the list  :\"))\n",
    "\n",
    "print(\"enter the values inside the list : \")\n",
    "#loop to input values for 'list1'\n",
    "for i in range(0,size):\n",
    "    values = int(input())\n",
    "    list1.append(values)\n",
    "#display the contents of 'list1'\n",
    "print(list1)\n",
    "#create another empty list 'list2' to store values entered by the user\n",
    "list2  =[]\n",
    "size2 = int(input(\"Enter the size of the list  :\"))\n",
    "3\n",
    "print(\"enter the values inside the list : \")\n",
    "\n",
    "#loop to input values for 'list2'\n",
    "for i in range(0,size2):\n",
    "    values = int(input())\n",
    "    list2.append(values)\n",
    "\n",
    "print(list2)\n",
    "#create an empty list 'similar_elements' to store common elements\n",
    "similar_elements = []\n",
    "\n",
    "#nested loops to find common elements between 'list1' and 'list2'\n",
    "for a in list1:\n",
    "    for b in list2:\n",
    "        if a == b:\n",
    "            similar_elements.append(a)\n",
    "\n",
    "#display the common elements found\n",
    "print(f\"the similiar elements are {similar_elements}\")"
   ]
  },
  {
   "cell_type": "code",
   "execution_count": 13,
   "metadata": {},
   "outputs": [
    {
     "name": "stdout",
     "output_type": "stream",
     "text": [
      "\n",
      "Original Matrix:\n",
      "[5.0, 3.0, 7.0]\n",
      "[3.0, 4.0, 6.0]\n",
      "[3.0, 5.0, 3.0]\n",
      "\n",
      "Transposed Matrix:\n",
      "[5.0, 3.0, 3.0]\n",
      "[3.0, 4.0, 5.0]\n",
      "[7.0, 6.0, 3.0]\n"
     ]
    }
   ],
   "source": [
    "def get_matrix_input():\n",
    "    \n",
    "    num_rows = int(input(\"Enter the number of rows in the matrix: \"))\n",
    "    num_cols = int(input(\"Enter the number of columns in the matrix: \"))\n",
    "\n",
    "    matrix = []\n",
    "\n",
    "    for i in range(num_rows):\n",
    "        row = []\n",
    "        for j in range(num_cols):\n",
    "            element = float(input(f\"Enter element at position ({i+1}, {j+1}): \"))\n",
    "            row.append(element)\n",
    "        matrix.append(row)\n",
    "\n",
    "    return matrix\n",
    "\n",
    "def transpose_matrix(matrix):\n",
    "\n",
    "    transposed_matrix = [list(row) for row in zip(*matrix)]\n",
    "    return transposed_matrix\n",
    "\n",
    "def main():\n",
    "\n",
    "    input_matrix = get_matrix_input()\n",
    "\n",
    "    transposed_result = transpose_matrix(input_matrix)\n",
    "\n",
    "    print(\"\\nOriginal Matrix:\")\n",
    "    for row in input_matrix:\n",
    "        print(row)\n",
    "\n",
    "    print(\"\\nTransposed Matrix:\")\n",
    "    for row in transposed_result:\n",
    "        print(row)\n",
    "\n",
    "if __name__ == \"__main__\":\n",
    "    main()\n"
   ]
  }
 ],
 "metadata": {
  "kernelspec": {
   "display_name": "Python 3",
   "language": "python",
   "name": "python3"
  },
  "language_info": {
   "codemirror_mode": {
    "name": "ipython",
    "version": 3
   },
   "file_extension": ".py",
   "mimetype": "text/x-python",
   "name": "python",
   "nbconvert_exporter": "python",
   "pygments_lexer": "ipython3",
   "version": "3.11.5"
  }
 },
 "nbformat": 4,
 "nbformat_minor": 2
}
